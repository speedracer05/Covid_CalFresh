{
 "cells": [
  {
   "cell_type": "markdown",
   "metadata": {},
   "source": [
    "# Observations and Insights"
   ]
  },
  {
   "cell_type": "markdown",
   "metadata": {},
   "source": [
    "<hr>"
   ]
  },
  {
   "cell_type": "code",
   "execution_count": 37,
   "metadata": {},
   "outputs": [],
   "source": [
    "# Dependencies and Setup\n",
    "import matplotlib.pyplot as plt\n",
    "import pandas as pd\n",
    "import scipy.stats as st\n",
    "\n",
    "# CalFresh data file path (DeJuan)\n",
    "calfresh_data_path = \"Resources/CalFresh Data 19 - Current.csv\"\n",
    "# Census data file path (Jackson)\n",
    "census_data_path = \"Resources/co-est2019-alldata.csv\"\n",
    "# us-counties data file path (Siddharth)\n",
    "counties_data_path = \"Resources/us-counties.csv\"\n"
   ]
  },
  {
   "cell_type": "code",
   "execution_count": 42,
   "metadata": {},
   "outputs": [
    {
     "output_type": "execute_result",
     "data": {
      "text/plain": [
       "      County    Month    Date  Year Unemployment Monthly Households  \\\n",
       "0  Statewide  January  Jan-19  2019                 4.8%  1,906,041   \n",
       "1    Alameda  January  Jan-19  2019                 0.3%     53,529   \n",
       "2     Alpine  January  Jan-19  2019                 4.7%         70   \n",
       "3     Amador  January  Jan-19  2019                 4.9%      1,462   \n",
       "4      Butte  January  Jan-19  2019                 6.6%     16,535   \n",
       "\n",
       "     Persons Applications Recevied Online Applications Received     EBT Cash  \n",
       "0  3,764,747               165,779                       72,917  936,417,639  \n",
       "1     93,512                 5,515                        2,428   24,484,650  \n",
       "2        114                     4                            1       27,662  \n",
       "3      2,573                   154                           40      607,423  \n",
       "4     29,634                 2,043                        1,085    7,170,854  "
      ],
      "text/html": "<div>\n<style scoped>\n    .dataframe tbody tr th:only-of-type {\n        vertical-align: middle;\n    }\n\n    .dataframe tbody tr th {\n        vertical-align: top;\n    }\n\n    .dataframe thead th {\n        text-align: right;\n    }\n</style>\n<table border=\"1\" class=\"dataframe\">\n  <thead>\n    <tr style=\"text-align: right;\">\n      <th></th>\n      <th>County</th>\n      <th>Month</th>\n      <th>Date</th>\n      <th>Year</th>\n      <th>Unemployment Monthly</th>\n      <th>Households</th>\n      <th>Persons</th>\n      <th>Applications Recevied</th>\n      <th>Online Applications Received</th>\n      <th>EBT Cash</th>\n    </tr>\n  </thead>\n  <tbody>\n    <tr>\n      <th>0</th>\n      <td>Statewide</td>\n      <td>January</td>\n      <td>Jan-19</td>\n      <td>2019</td>\n      <td>4.8%</td>\n      <td>1,906,041</td>\n      <td>3,764,747</td>\n      <td>165,779</td>\n      <td>72,917</td>\n      <td>936,417,639</td>\n    </tr>\n    <tr>\n      <th>1</th>\n      <td>Alameda</td>\n      <td>January</td>\n      <td>Jan-19</td>\n      <td>2019</td>\n      <td>0.3%</td>\n      <td>53,529</td>\n      <td>93,512</td>\n      <td>5,515</td>\n      <td>2,428</td>\n      <td>24,484,650</td>\n    </tr>\n    <tr>\n      <th>2</th>\n      <td>Alpine</td>\n      <td>January</td>\n      <td>Jan-19</td>\n      <td>2019</td>\n      <td>4.7%</td>\n      <td>70</td>\n      <td>114</td>\n      <td>4</td>\n      <td>1</td>\n      <td>27,662</td>\n    </tr>\n    <tr>\n      <th>3</th>\n      <td>Amador</td>\n      <td>January</td>\n      <td>Jan-19</td>\n      <td>2019</td>\n      <td>4.9%</td>\n      <td>1,462</td>\n      <td>2,573</td>\n      <td>154</td>\n      <td>40</td>\n      <td>607,423</td>\n    </tr>\n    <tr>\n      <th>4</th>\n      <td>Butte</td>\n      <td>January</td>\n      <td>Jan-19</td>\n      <td>2019</td>\n      <td>6.6%</td>\n      <td>16,535</td>\n      <td>29,634</td>\n      <td>2,043</td>\n      <td>1,085</td>\n      <td>7,170,854</td>\n    </tr>\n  </tbody>\n</table>\n</div>"
     },
     "metadata": {},
     "execution_count": 42
    }
   ],
   "source": [
    "# Read the all three datasets (D,J,S)\n",
    "# Lots of problems reading the file. After awhile, figured out \n",
    "# it was encoded ANSI and not utf-8. After re-coding, using notepad. it worked. lost 30 min.\n",
    "calfresh_data = pd.read_csv(calfresh_data_path)\n",
    "\n",
    "# rename columns.\n",
    "calfresh_data.rename(columns = {'Calendar Year' : 'Year', 'Unemployment Monthly\t' : 'Unemployment', \n",
    "                                'CalFresh Households' : 'Households', 'CalFresh Persons' : 'Persons', \n",
    "                                'EBT_FSP_dollars' : 'EBT Cash'}, inplace = True)\n",
    "                                \n",
    "\n",
    "calfresh_data.head()"
   ]
  },
  {
   "cell_type": "code",
   "execution_count": 43,
   "metadata": {},
   "outputs": [
    {
     "output_type": "execute_result",
     "data": {
      "text/plain": [
       "      County    Month  Year Unemployment Monthly Households    Persons  \\\n",
       "0  Statewide  January  2019                 4.8%  1,906,041  3,764,747   \n",
       "1    Alameda  January  2019                 0.3%     53,529     93,512   \n",
       "2     Alpine  January  2019                 4.7%         70        114   \n",
       "3     Amador  January  2019                 4.9%      1,462      2,573   \n",
       "4      Butte  January  2019                 6.6%     16,535     29,634   \n",
       "\n",
       "  Applications Recevied Online Applications Received     EBT Cash  \n",
       "0               165,779                       72,917  936,417,639  \n",
       "1                 5,515                        2,428   24,484,650  \n",
       "2                     4                            1       27,662  \n",
       "3                   154                           40      607,423  \n",
       "4                 2,043                        1,085    7,170,854  "
      ],
      "text/html": "<div>\n<style scoped>\n    .dataframe tbody tr th:only-of-type {\n        vertical-align: middle;\n    }\n\n    .dataframe tbody tr th {\n        vertical-align: top;\n    }\n\n    .dataframe thead th {\n        text-align: right;\n    }\n</style>\n<table border=\"1\" class=\"dataframe\">\n  <thead>\n    <tr style=\"text-align: right;\">\n      <th></th>\n      <th>County</th>\n      <th>Month</th>\n      <th>Year</th>\n      <th>Unemployment Monthly</th>\n      <th>Households</th>\n      <th>Persons</th>\n      <th>Applications Recevied</th>\n      <th>Online Applications Received</th>\n      <th>EBT Cash</th>\n    </tr>\n  </thead>\n  <tbody>\n    <tr>\n      <th>0</th>\n      <td>Statewide</td>\n      <td>January</td>\n      <td>2019</td>\n      <td>4.8%</td>\n      <td>1,906,041</td>\n      <td>3,764,747</td>\n      <td>165,779</td>\n      <td>72,917</td>\n      <td>936,417,639</td>\n    </tr>\n    <tr>\n      <th>1</th>\n      <td>Alameda</td>\n      <td>January</td>\n      <td>2019</td>\n      <td>0.3%</td>\n      <td>53,529</td>\n      <td>93,512</td>\n      <td>5,515</td>\n      <td>2,428</td>\n      <td>24,484,650</td>\n    </tr>\n    <tr>\n      <th>2</th>\n      <td>Alpine</td>\n      <td>January</td>\n      <td>2019</td>\n      <td>4.7%</td>\n      <td>70</td>\n      <td>114</td>\n      <td>4</td>\n      <td>1</td>\n      <td>27,662</td>\n    </tr>\n    <tr>\n      <th>3</th>\n      <td>Amador</td>\n      <td>January</td>\n      <td>2019</td>\n      <td>4.9%</td>\n      <td>1,462</td>\n      <td>2,573</td>\n      <td>154</td>\n      <td>40</td>\n      <td>607,423</td>\n    </tr>\n    <tr>\n      <th>4</th>\n      <td>Butte</td>\n      <td>January</td>\n      <td>2019</td>\n      <td>6.6%</td>\n      <td>16,535</td>\n      <td>29,634</td>\n      <td>2,043</td>\n      <td>1,085</td>\n      <td>7,170,854</td>\n    </tr>\n  </tbody>\n</table>\n</div>"
     },
     "metadata": {},
     "execution_count": 43
    }
   ],
   "source": [
    "# Remove 'Date' Column from CSV, not usable for analysis. Is not an actual date, is only the Month and year joined. (DHall)\n",
    "del calfresh_data['Date']\n",
    "\n",
    "calfresh_data.head()"
   ]
  },
  {
   "cell_type": "code",
   "execution_count": 44,
   "metadata": {},
   "outputs": [
    {
     "output_type": "execute_result",
     "data": {
      "text/plain": [
       "        County    Month  Year Unemployment Monthly Households    Persons  \\\n",
       "708  Statewide  January  2020                 4.3%  2,176,109  4,075,962   \n",
       "709    Alameda  January  2020                 3.1%     65,302    112,881   \n",
       "710     Alpine  January  2020                 4.6%         77        126   \n",
       "711     Amador  January  2020                 4.7%      1,496      2,588   \n",
       "712      Butte  January  2020                 5.6%     17,028     28,648   \n",
       "\n",
       "    Applications Recevied Online Applications Received     EBT Cash  \n",
       "708               187,228                       86,463  500,169,011  \n",
       "709                 6,341                        2,939   13,678,807  \n",
       "710                     7                            0       14,377  \n",
       "711                   171                           41      305,508  \n",
       "712                 1,901                        1,014    3,503,997  "
      ],
      "text/html": "<div>\n<style scoped>\n    .dataframe tbody tr th:only-of-type {\n        vertical-align: middle;\n    }\n\n    .dataframe tbody tr th {\n        vertical-align: top;\n    }\n\n    .dataframe thead th {\n        text-align: right;\n    }\n</style>\n<table border=\"1\" class=\"dataframe\">\n  <thead>\n    <tr style=\"text-align: right;\">\n      <th></th>\n      <th>County</th>\n      <th>Month</th>\n      <th>Year</th>\n      <th>Unemployment Monthly</th>\n      <th>Households</th>\n      <th>Persons</th>\n      <th>Applications Recevied</th>\n      <th>Online Applications Received</th>\n      <th>EBT Cash</th>\n    </tr>\n  </thead>\n  <tbody>\n    <tr>\n      <th>708</th>\n      <td>Statewide</td>\n      <td>January</td>\n      <td>2020</td>\n      <td>4.3%</td>\n      <td>2,176,109</td>\n      <td>4,075,962</td>\n      <td>187,228</td>\n      <td>86,463</td>\n      <td>500,169,011</td>\n    </tr>\n    <tr>\n      <th>709</th>\n      <td>Alameda</td>\n      <td>January</td>\n      <td>2020</td>\n      <td>3.1%</td>\n      <td>65,302</td>\n      <td>112,881</td>\n      <td>6,341</td>\n      <td>2,939</td>\n      <td>13,678,807</td>\n    </tr>\n    <tr>\n      <th>710</th>\n      <td>Alpine</td>\n      <td>January</td>\n      <td>2020</td>\n      <td>4.6%</td>\n      <td>77</td>\n      <td>126</td>\n      <td>7</td>\n      <td>0</td>\n      <td>14,377</td>\n    </tr>\n    <tr>\n      <th>711</th>\n      <td>Amador</td>\n      <td>January</td>\n      <td>2020</td>\n      <td>4.7%</td>\n      <td>1,496</td>\n      <td>2,588</td>\n      <td>171</td>\n      <td>41</td>\n      <td>305,508</td>\n    </tr>\n    <tr>\n      <th>712</th>\n      <td>Butte</td>\n      <td>January</td>\n      <td>2020</td>\n      <td>5.6%</td>\n      <td>17,028</td>\n      <td>28,648</td>\n      <td>1,901</td>\n      <td>1,014</td>\n      <td>3,503,997</td>\n    </tr>\n  </tbody>\n</table>\n</div>"
     },
     "metadata": {},
     "execution_count": 44
    }
   ],
   "source": [
    "#Filter calfreash data by 2020 and 2021 (DHall)\n",
    "calfresh_data20_21 = calfresh_data[calfresh_data['Year']!=2019]\n",
    "\n",
    "calfresh_data20_21.head()"
   ]
  },
  {
   "cell_type": "code",
   "execution_count": 46,
   "metadata": {},
   "outputs": [],
   "source": [
    "#Export Updated CSV to Resource Folder (DHall)\n",
    "calfresh_data20_21.to_csv('Resources/calfresh_data20_21.csv')"
   ]
  },
  {
   "cell_type": "code",
   "execution_count": null,
   "metadata": {},
   "outputs": [],
   "source": [
    "counties_data = pd.read_csv(counties_data_path)\n",
    "\n",
    "# rename columns to use initial Caps.\n",
    "counties_data.rename(columns = {'date' : 'Date', 'county' : 'County', 'state' : 'State', 'cases' : 'Cases', 'deaths' : 'Deaths'}, inplace = True)\n",
    "counties_data.head()\n",
    "\n"
   ]
  },
  {
   "cell_type": "code",
   "execution_count": null,
   "metadata": {},
   "outputs": [],
   "source": [
    "#### Had initial problems. Discovered that all US .gov docs are encoded ANSI, \n",
    "# or have fixed length columns. You must open in note pad and save as utf-8.\n",
    "census_data = pd.read_csv(census_data_path)\n",
    "\n",
    "# rename columns to use initial Caps.\n",
    "census_data.rename(columns = {'STNAME' : 'State', 'CTYNAME' : 'County', \n",
    "                              'POPESTIMATE2019' : 'Population'}, inplace = True)\n",
    "census_df = pd.DataFrame(census_data)\n",
    "census_df.drop(census_df.columns[[0, 1, 2, 3, 4, 7, 8, 9, 10, 11, 12, 13, 14, 15, 16, 17, 19, 20, 21, \n",
    "                                  22, 23, 24, 25, 26, 27, 28, 29, 30, 31, 32, 33, 34, 35, 36, 37, 38, \n",
    "                                  39, 40, 41, 42, 43, 44, 45, 46, 47]], axis = 1, inplace = True)\n",
    "# filter rows in state that equal California\n",
    "census_ca = census_df.loc[census_df['State'] != 'California']\n",
    "\n",
    "census_ca.head()\n",
    "#print('\\nResult census_ca :\\n'', \n",
    "\n",
    "# Create new pd.DataFrame using only State, County, "
   ]
  },
  {
   "cell_type": "code",
   "execution_count": null,
   "metadata": {},
   "outputs": [],
   "source": [
    "\n",
    "\n",
    "# Combine CalFresh, census and counties data into a single dataset (JC)\n",
    "\n",
    "\n",
    "# Create pd.DataFrame for population density by county. Timeframe 1-2020 to 3-2021\n",
    "\n",
    "# Create pd.DataFrame for CalFresh recipients by county. Timeframe 1-2020 to 3-2021\n",
    "\n",
    "# Create pd.DataFrame for total Covid cases by county. Timeframe 1-2020 to 3-2021\n",
    "# Display the data table for preview\n"
   ]
  },
  {
   "cell_type": "code",
   "execution_count": null,
   "metadata": {},
   "outputs": [],
   "source": []
  },
  {
   "cell_type": "code",
   "execution_count": null,
   "metadata": {},
   "outputs": [],
   "source": []
  },
  {
   "cell_type": "markdown",
   "metadata": {},
   "source": [
    "# Summary Statistics"
   ]
  },
  {
   "cell_type": "code",
   "execution_count": null,
   "metadata": {},
   "outputs": [],
   "source": [
    "\n"
   ]
  },
  {
   "cell_type": "markdown",
   "metadata": {},
   "source": [
    "## Line Chart "
   ]
  },
  {
   "cell_type": "code",
   "execution_count": null,
   "metadata": {},
   "outputs": [],
   "source": [
    "# Show CA state covid cases over months using line plot. Years on x-axis and population on y-axis\n",
    "# Timeframe: Jan 2020 to March 2021\n"
   ]
  },
  {
   "cell_type": "code",
   "execution_count": null,
   "metadata": {},
   "outputs": [],
   "source": [
    "# Graph trends amoungst various counties on a single plot. Pick 5, at least one urban area\n",
    "# Timeframe: Jan 2020 to March 2021\n"
   ]
  },
  {
   "cell_type": "code",
   "execution_count": null,
   "metadata": {},
   "outputs": [],
   "source": [
    "# Correlation Rise of Covid and CalFresh (maybe unemployment) vs number of people receiving CalFresh aid."
   ]
  },
  {
   "cell_type": "markdown",
   "metadata": {},
   "source": [
    "### Bar Chart"
   ]
  },
  {
   "cell_type": "code",
   "execution_count": null,
   "metadata": {},
   "outputs": [],
   "source": [
    "# Number of Covid cases in all counties. Sort decending"
   ]
  },
  {
   "cell_type": "code",
   "execution_count": null,
   "metadata": {},
   "outputs": [],
   "source": [
    "# Number of Covid cases in top 10 counties. Sort decending"
   ]
  },
  {
   "cell_type": "code",
   "execution_count": null,
   "metadata": {},
   "outputs": [],
   "source": []
  },
  {
   "cell_type": "code",
   "execution_count": null,
   "metadata": {},
   "outputs": [],
   "source": []
  }
 ],
 "metadata": {
  "kernelspec": {
   "name": "python385jvsc74a57bd025ccd8def72f6692586959901061b5030f77648558fd6ffa67ce9122663909b4",
   "display_name": "Python 3.8.5 64-bit (conda)"
  },
  "language_info": {
   "codemirror_mode": {
    "name": "ipython",
    "version": 3
   },
   "file_extension": ".py",
   "mimetype": "text/x-python",
   "name": "python",
   "nbconvert_exporter": "python",
   "pygments_lexer": "ipython3",
   "version": "3.8.5"
  }
 },
 "nbformat": 4,
 "nbformat_minor": 4
}