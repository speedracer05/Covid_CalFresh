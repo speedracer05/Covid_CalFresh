{
 "cells": [
  {
   "cell_type": "markdown",
   "metadata": {},
   "source": [
    "# Observations and Insights"
   ]
  },
  {
   "cell_type": "markdown",
   "metadata": {},
   "source": [
    "<hr>"
   ]
  },
  {
   "cell_type": "code",
   "execution_count": 32,
   "metadata": {},
   "outputs": [],
   "source": [
    "# Dependencies and Setup (John)\n",
    "import matplotlib.pyplot as plt\n",
    "import pandas as pd\n",
    "import scipy.stats as st\n",
    "import numpy as np\n",
    "import calendar\n",
    "\n",
    "# CalFresh data file path (DeJuan)\n",
    "calfresh_data_path = \"Resources/CalFresh Data 19 - Current.csv\"\n",
    "# Census data file path (Jackson)\n",
    "census_data_path = \"Resources/co-est2019-alldata.csv\"\n",
    "# us-counties data file path (Siddharth)\n",
    "all_counties_path = \"Resources/us-counties.csv\"\n",
    "\n",
    "covid_merge_path = \"Resources/covid_merge.csv\"\n"
   ]
  },
  {
   "cell_type": "code",
   "execution_count": 33,
   "metadata": {},
   "outputs": [
    {
     "output_type": "execute_result",
     "data": {
      "text/plain": [
       "         County     Month  Year  Unemployment Monthly  Households    Persons  \\\n",
       "708   Statewide   January  2020                 0.043   2176109.0  4075962.0   \n",
       "709     Alameda   January  2020                 0.031     65302.0   112881.0   \n",
       "710      Alpine   January  2020                 0.046        77.0      126.0   \n",
       "711      Amador   January  2020                 0.047      1496.0     2588.0   \n",
       "712       Butte   January  2020                 0.056     17028.0    28648.0   \n",
       "...         ...       ...   ...                   ...         ...        ...   \n",
       "1529     Tulare  February  2021                 0.114     45068.0   101481.0   \n",
       "1530   Tuolumne  February  2021                 0.087      3170.0     4907.0   \n",
       "1531    Ventura  February  2021                 0.068     36565.0    67207.0   \n",
       "1532       Yolo  February  2021                 0.068         0.0        0.0   \n",
       "1533       Yuba  February  2021                 0.099      6734.0    13338.0   \n",
       "\n",
       "         EBT Cash  \n",
       "708   500169011.0  \n",
       "709    13678807.0  \n",
       "710       14377.0  \n",
       "711      305508.0  \n",
       "712     3503997.0  \n",
       "...           ...  \n",
       "1529   17778143.0  \n",
       "1530     786603.0  \n",
       "1531   11082712.0  \n",
       "1532    3572432.0  \n",
       "1533    2243153.0  \n",
       "\n",
       "[826 rows x 7 columns]"
      ],
      "text/html": "<div>\n<style scoped>\n    .dataframe tbody tr th:only-of-type {\n        vertical-align: middle;\n    }\n\n    .dataframe tbody tr th {\n        vertical-align: top;\n    }\n\n    .dataframe thead th {\n        text-align: right;\n    }\n</style>\n<table border=\"1\" class=\"dataframe\">\n  <thead>\n    <tr style=\"text-align: right;\">\n      <th></th>\n      <th>County</th>\n      <th>Month</th>\n      <th>Year</th>\n      <th>Unemployment Monthly</th>\n      <th>Households</th>\n      <th>Persons</th>\n      <th>EBT Cash</th>\n    </tr>\n  </thead>\n  <tbody>\n    <tr>\n      <th>708</th>\n      <td>Statewide</td>\n      <td>January</td>\n      <td>2020</td>\n      <td>0.043</td>\n      <td>2176109.0</td>\n      <td>4075962.0</td>\n      <td>500169011.0</td>\n    </tr>\n    <tr>\n      <th>709</th>\n      <td>Alameda</td>\n      <td>January</td>\n      <td>2020</td>\n      <td>0.031</td>\n      <td>65302.0</td>\n      <td>112881.0</td>\n      <td>13678807.0</td>\n    </tr>\n    <tr>\n      <th>710</th>\n      <td>Alpine</td>\n      <td>January</td>\n      <td>2020</td>\n      <td>0.046</td>\n      <td>77.0</td>\n      <td>126.0</td>\n      <td>14377.0</td>\n    </tr>\n    <tr>\n      <th>711</th>\n      <td>Amador</td>\n      <td>January</td>\n      <td>2020</td>\n      <td>0.047</td>\n      <td>1496.0</td>\n      <td>2588.0</td>\n      <td>305508.0</td>\n    </tr>\n    <tr>\n      <th>712</th>\n      <td>Butte</td>\n      <td>January</td>\n      <td>2020</td>\n      <td>0.056</td>\n      <td>17028.0</td>\n      <td>28648.0</td>\n      <td>3503997.0</td>\n    </tr>\n    <tr>\n      <th>...</th>\n      <td>...</td>\n      <td>...</td>\n      <td>...</td>\n      <td>...</td>\n      <td>...</td>\n      <td>...</td>\n      <td>...</td>\n    </tr>\n    <tr>\n      <th>1529</th>\n      <td>Tulare</td>\n      <td>February</td>\n      <td>2021</td>\n      <td>0.114</td>\n      <td>45068.0</td>\n      <td>101481.0</td>\n      <td>17778143.0</td>\n    </tr>\n    <tr>\n      <th>1530</th>\n      <td>Tuolumne</td>\n      <td>February</td>\n      <td>2021</td>\n      <td>0.087</td>\n      <td>3170.0</td>\n      <td>4907.0</td>\n      <td>786603.0</td>\n    </tr>\n    <tr>\n      <th>1531</th>\n      <td>Ventura</td>\n      <td>February</td>\n      <td>2021</td>\n      <td>0.068</td>\n      <td>36565.0</td>\n      <td>67207.0</td>\n      <td>11082712.0</td>\n    </tr>\n    <tr>\n      <th>1532</th>\n      <td>Yolo</td>\n      <td>February</td>\n      <td>2021</td>\n      <td>0.068</td>\n      <td>0.0</td>\n      <td>0.0</td>\n      <td>3572432.0</td>\n    </tr>\n    <tr>\n      <th>1533</th>\n      <td>Yuba</td>\n      <td>February</td>\n      <td>2021</td>\n      <td>0.099</td>\n      <td>6734.0</td>\n      <td>13338.0</td>\n      <td>2243153.0</td>\n    </tr>\n  </tbody>\n</table>\n<p>826 rows × 7 columns</p>\n</div>"
     },
     "metadata": {},
     "execution_count": 33
    }
   ],
   "source": [
    "# Read the all three datasets (John)\n",
    "calfresh_data = pd.read_csv(calfresh_data_path)\n",
    "\n",
    "# rename columns.\n",
    "calfresh_data.rename(columns = {'Calendar Year' : 'Year', 'Unemployment Monthly\t' : 'Unemployment', \n",
    "                                'CalFresh Households' : 'Households', 'CalFresh Persons' : 'Persons', \n",
    "                                'EBT_FSP_dollars' : 'EBT Cash'}, inplace = True)\n",
    " \n",
    "# Use .drop function. Removed columns 7-8 as not needed, and index 0 (row 1). (John)\n",
    "calfresh_data.drop(calfresh_data.columns[[2, 7, 8]], axis = 1, inplace = True)\n",
    "\n",
    "## ** Ask TA why index 0 can't be dropped ---------------- ** ##\n",
    "#calfresh_data.drop(labels=[0], axis=0)\n",
    "#calfresh_data.drop(calfresh_data.index [[ 0]])\n",
    "## ** ---------------------------------------------------- ** ##\n",
    "\n",
    "# remove commas in the entire dataframe and convert number strings to a number int. (John)\n",
    "calfresh_df = pd.DataFrame(calfresh_data)\n",
    "calfresh_df.replace(',','', regex=True, inplace=True)\n",
    "\n",
    "# Cconvert specific columns to number dtype (John)\n",
    "calfresh_df = calfresh_df.astype({'Households': int, 'Persons': int, 'EBT Cash': int})\n",
    "\n",
    "# convert unemployment from obj to float, removed \"%\", divide by 100 and round to 3 digits.\n",
    "calfresh_df[calfresh_df.columns[3:]] = calfresh_df[calfresh_df.columns[3:]\n",
    "                                                  ].replace('[\\%,]', '', regex=True).astype(float)\n",
    "calfresh_df['Unemployment Monthly'] = calfresh_df['Unemployment Monthly'].div(100).round(3)\n",
    "\n",
    "#Filter calfreash data by 2020 and 2021 (DHall)\n",
    "calfresh_data20_21 = calfresh_df[calfresh_df['Year']!=2019]\n",
    "\n",
    "#Export Updated CSV to Resource Folder (DHall)\n",
    "calfresh_data20_21.to_csv('Resources/calfresh_data20_21.csv')\n",
    "\n",
    "calfresh_data20_21"
   ]
  },
  {
   "cell_type": "code",
   "execution_count": 23,
   "metadata": {},
   "outputs": [
    {
     "output_type": "execute_result",
     "data": {
      "text/plain": [
       "0        2020-01-25\n",
       "1        2020-01-26\n",
       "2        2020-01-26\n",
       "3        2020-01-27\n",
       "4        2020-01-27\n",
       "            ...    \n",
       "23292    2021-04-22\n",
       "23293    2021-04-22\n",
       "23294    2021-04-22\n",
       "23295    2021-04-22\n",
       "23296    2021-04-22\n",
       "Name: date, Length: 23297, dtype: object"
      ]
     },
     "metadata": {},
     "execution_count": 23
    }
   ],
   "source": [
    "#CA County Data (Jackson)\n",
    "#Data cleanup: Separate date into 3 columns, MONTH, DATE, YEAR. Isolate counties to CA. Drop FIPS column. \n",
    "all_counties = pd.read_csv(all_counties_path,index_col=0, parse_dates=True)\n",
    "\n",
    "#Drop FIPS column\n",
    "all_counties_df = pd.DataFrame(all_counties).drop([\"fips\"], axis=1)\n",
    "\n",
    "#Isolate counties to CA \n",
    "CA_counties_df = all_counties_df[all_counties_df[\"state\"] == \"California\"]\n",
    "\n",
    "CA_counties_df.reset_index(inplace=True)\n",
    "CA_counties_df = CA_counties_df.astype({'date': str})\n",
    "CA_counties_df[[\"year\", \"month\", \"day\"]] = CA_counties_df[\"date\"].str.split(\"-\", expand = True)\n",
    "CA_counties_df = CA_counties_df.astype({'deaths': int, 'year': int, 'month': int, 'day': int})\n",
    "CA_counties_df['month'] =  CA_counties_df['month'].apply(lambda x: calendar.month_name[x])\n",
    "\n",
    "CA_counties_df.pop('date')  # Deleted original date column\n",
    "\n",
    "#CA_counties_df"
   ]
  },
  {
   "cell_type": "code",
   "execution_count": 34,
   "metadata": {},
   "outputs": [
    {
     "output_type": "execute_result",
     "data": {
      "text/plain": [
       "      county  year      month    cases\n",
       "0    Alameda  2020      April    30470\n",
       "1    Alameda  2020     August   463338\n",
       "2    Alameda  2020   December  1247644\n",
       "3    Alameda  2020       July   268879\n",
       "4    Alameda  2020       June   136574\n",
       "..       ...   ...        ...      ...\n",
       "810     Yuba  2020  September    32400\n",
       "811     Yuba  2021      April   133585\n",
       "812     Yuba  2021   February   156493\n",
       "813     Yuba  2021    January   146941\n",
       "814     Yuba  2021      March   182187\n",
       "\n",
       "[815 rows x 4 columns]"
      ],
      "text/html": "<div>\n<style scoped>\n    .dataframe tbody tr th:only-of-type {\n        vertical-align: middle;\n    }\n\n    .dataframe tbody tr th {\n        vertical-align: top;\n    }\n\n    .dataframe thead th {\n        text-align: right;\n    }\n</style>\n<table border=\"1\" class=\"dataframe\">\n  <thead>\n    <tr style=\"text-align: right;\">\n      <th></th>\n      <th>county</th>\n      <th>year</th>\n      <th>month</th>\n      <th>cases</th>\n    </tr>\n  </thead>\n  <tbody>\n    <tr>\n      <th>0</th>\n      <td>Alameda</td>\n      <td>2020</td>\n      <td>April</td>\n      <td>30470</td>\n    </tr>\n    <tr>\n      <th>1</th>\n      <td>Alameda</td>\n      <td>2020</td>\n      <td>August</td>\n      <td>463338</td>\n    </tr>\n    <tr>\n      <th>2</th>\n      <td>Alameda</td>\n      <td>2020</td>\n      <td>December</td>\n      <td>1247644</td>\n    </tr>\n    <tr>\n      <th>3</th>\n      <td>Alameda</td>\n      <td>2020</td>\n      <td>July</td>\n      <td>268879</td>\n    </tr>\n    <tr>\n      <th>4</th>\n      <td>Alameda</td>\n      <td>2020</td>\n      <td>June</td>\n      <td>136574</td>\n    </tr>\n    <tr>\n      <th>...</th>\n      <td>...</td>\n      <td>...</td>\n      <td>...</td>\n      <td>...</td>\n    </tr>\n    <tr>\n      <th>810</th>\n      <td>Yuba</td>\n      <td>2020</td>\n      <td>September</td>\n      <td>32400</td>\n    </tr>\n    <tr>\n      <th>811</th>\n      <td>Yuba</td>\n      <td>2021</td>\n      <td>April</td>\n      <td>133585</td>\n    </tr>\n    <tr>\n      <th>812</th>\n      <td>Yuba</td>\n      <td>2021</td>\n      <td>February</td>\n      <td>156493</td>\n    </tr>\n    <tr>\n      <th>813</th>\n      <td>Yuba</td>\n      <td>2021</td>\n      <td>January</td>\n      <td>146941</td>\n    </tr>\n    <tr>\n      <th>814</th>\n      <td>Yuba</td>\n      <td>2021</td>\n      <td>March</td>\n      <td>182187</td>\n    </tr>\n  </tbody>\n</table>\n<p>815 rows × 4 columns</p>\n</div>"
     },
     "metadata": {},
     "execution_count": 34
    }
   ],
   "source": [
    "# groupby multiple column and sum by cases; convert groupby into dataframe using .to_frame()\n",
    "#county_group = CA_counties_df.groupby(['county', 'year', 'month'])[\"cases\"].apply(lambda x : x.astype(\n",
    "#    int).sum()).to_frame().reset_index()\n",
    "county_cases = CA_counties_df.groupby(['county', 'year', 'month'])[\"cases\"].apply(lambda x : x.astype(\n",
    "    int).sum()).to_frame().reset_index()\n",
    "county_cases"
   ]
  },
  {
   "cell_type": "code",
   "execution_count": 35,
   "metadata": {},
   "outputs": [
    {
     "output_type": "execute_result",
     "data": {
      "text/plain": [
       "      County  Year      Month    Cases  Deaths\n",
       "0    Alameda  2020      April    30470     988\n",
       "1    Alameda  2020     August   463338    6785\n",
       "2    Alameda  2020   December  1247644   17659\n",
       "3    Alameda  2020       July   268879    4909\n",
       "4    Alameda  2020       June   136574    3458\n",
       "..       ...   ...        ...      ...     ...\n",
       "810     Yuba  2020  September    32400     207\n",
       "811     Yuba  2021      April   133585     958\n",
       "812     Yuba  2021   February   156493     983\n",
       "813     Yuba  2021    January   146941     821\n",
       "814     Yuba  2021      March   182187    1263\n",
       "\n",
       "[815 rows x 5 columns]"
      ],
      "text/html": "<div>\n<style scoped>\n    .dataframe tbody tr th:only-of-type {\n        vertical-align: middle;\n    }\n\n    .dataframe tbody tr th {\n        vertical-align: top;\n    }\n\n    .dataframe thead th {\n        text-align: right;\n    }\n</style>\n<table border=\"1\" class=\"dataframe\">\n  <thead>\n    <tr style=\"text-align: right;\">\n      <th></th>\n      <th>County</th>\n      <th>Year</th>\n      <th>Month</th>\n      <th>Cases</th>\n      <th>Deaths</th>\n    </tr>\n  </thead>\n  <tbody>\n    <tr>\n      <th>0</th>\n      <td>Alameda</td>\n      <td>2020</td>\n      <td>April</td>\n      <td>30470</td>\n      <td>988</td>\n    </tr>\n    <tr>\n      <th>1</th>\n      <td>Alameda</td>\n      <td>2020</td>\n      <td>August</td>\n      <td>463338</td>\n      <td>6785</td>\n    </tr>\n    <tr>\n      <th>2</th>\n      <td>Alameda</td>\n      <td>2020</td>\n      <td>December</td>\n      <td>1247644</td>\n      <td>17659</td>\n    </tr>\n    <tr>\n      <th>3</th>\n      <td>Alameda</td>\n      <td>2020</td>\n      <td>July</td>\n      <td>268879</td>\n      <td>4909</td>\n    </tr>\n    <tr>\n      <th>4</th>\n      <td>Alameda</td>\n      <td>2020</td>\n      <td>June</td>\n      <td>136574</td>\n      <td>3458</td>\n    </tr>\n    <tr>\n      <th>...</th>\n      <td>...</td>\n      <td>...</td>\n      <td>...</td>\n      <td>...</td>\n      <td>...</td>\n    </tr>\n    <tr>\n      <th>810</th>\n      <td>Yuba</td>\n      <td>2020</td>\n      <td>September</td>\n      <td>32400</td>\n      <td>207</td>\n    </tr>\n    <tr>\n      <th>811</th>\n      <td>Yuba</td>\n      <td>2021</td>\n      <td>April</td>\n      <td>133585</td>\n      <td>958</td>\n    </tr>\n    <tr>\n      <th>812</th>\n      <td>Yuba</td>\n      <td>2021</td>\n      <td>February</td>\n      <td>156493</td>\n      <td>983</td>\n    </tr>\n    <tr>\n      <th>813</th>\n      <td>Yuba</td>\n      <td>2021</td>\n      <td>January</td>\n      <td>146941</td>\n      <td>821</td>\n    </tr>\n    <tr>\n      <th>814</th>\n      <td>Yuba</td>\n      <td>2021</td>\n      <td>March</td>\n      <td>182187</td>\n      <td>1263</td>\n    </tr>\n  </tbody>\n</table>\n<p>815 rows × 5 columns</p>\n</div>"
     },
     "metadata": {},
     "execution_count": 35
    }
   ],
   "source": [
    "county_deaths = CA_counties_df.groupby(['county', 'year', 'month'])[\"deaths\"].apply(lambda x : x.astype(\n",
    "    int).sum()).to_frame().reset_index()\n",
    "# merge two county data sets on county, year and month\n",
    "county_merge = pd.merge(county_cases, county_deaths, how='left', left_on =[\n",
    "    'county', 'year', 'month'], right_on =['county', 'year', 'month'])\n",
    "#CA_counties_df.to_csv(\"Resources/CA_County_Data.csv\")\n",
    "#Updated Columns to Caps to match in Merging with CalFresh data (Dhall)\n",
    "\n",
    "county_merge.rename(columns = {'county' : 'County', 'year' : 'Year', \n",
    "                                'month' : 'Month', 'cases' : 'Cases', \n",
    "                                'deaths' : 'Deaths'}, inplace = True)\n",
    "\n",
    "county_merge"
   ]
  },
  {
   "cell_type": "code",
   "execution_count": 43,
   "metadata": {},
   "outputs": [
    {
     "output_type": "execute_result",
     "data": {
      "text/plain": [
       "          County     Month  Year  Unemployment Monthly  Households  Persons  \\\n",
       "0        Alameda   January  2020                 0.031       65302   112881   \n",
       "1        Alameda  February  2020                 0.030       65156   112458   \n",
       "2        Alameda     March  2020                 0.038       66424   114173   \n",
       "3        Alameda     April  2020                 0.141       76979   126157   \n",
       "4        Alameda       May  2020                 0.135       82572   134219   \n",
       "..           ...       ...   ...                   ...         ...      ...   \n",
       "95  Contra Costa  December  2020                 0.079       41836    76656   \n",
       "96  Contra Costa   January  2021                 0.075       42830    77919   \n",
       "97  Contra Costa  February  2021                 0.071       44389    80233   \n",
       "98     Del Norte   January  2020                 0.065        2997     5380   \n",
       "99     Del Norte  February  2020                 0.062        3023     5415   \n",
       "\n",
       "    EBT Cash   Cases  Deaths  \n",
       "0   13678807       0       0  \n",
       "1   13629862       0       0  \n",
       "2   13937791    2787      39  \n",
       "3   15822035   27683     949  \n",
       "4   17104593   44670    1565  \n",
       "..       ...     ...     ...  \n",
       "95   9117582  361197    1385  \n",
       "96   9141815  556903    4406  \n",
       "97  13095225  130653    3668  \n",
       "98    612047       0       0  \n",
       "99    610655       0       0  \n",
       "\n",
       "[100 rows x 9 columns]"
      ],
      "text/html": "<div>\n<style scoped>\n    .dataframe tbody tr th:only-of-type {\n        vertical-align: middle;\n    }\n\n    .dataframe tbody tr th {\n        vertical-align: top;\n    }\n\n    .dataframe thead th {\n        text-align: right;\n    }\n</style>\n<table border=\"1\" class=\"dataframe\">\n  <thead>\n    <tr style=\"text-align: right;\">\n      <th></th>\n      <th>County</th>\n      <th>Month</th>\n      <th>Year</th>\n      <th>Unemployment Monthly</th>\n      <th>Households</th>\n      <th>Persons</th>\n      <th>EBT Cash</th>\n      <th>Cases</th>\n      <th>Deaths</th>\n    </tr>\n  </thead>\n  <tbody>\n    <tr>\n      <th>0</th>\n      <td>Alameda</td>\n      <td>January</td>\n      <td>2020</td>\n      <td>0.031</td>\n      <td>65302</td>\n      <td>112881</td>\n      <td>13678807</td>\n      <td>0</td>\n      <td>0</td>\n    </tr>\n    <tr>\n      <th>1</th>\n      <td>Alameda</td>\n      <td>February</td>\n      <td>2020</td>\n      <td>0.030</td>\n      <td>65156</td>\n      <td>112458</td>\n      <td>13629862</td>\n      <td>0</td>\n      <td>0</td>\n    </tr>\n    <tr>\n      <th>2</th>\n      <td>Alameda</td>\n      <td>March</td>\n      <td>2020</td>\n      <td>0.038</td>\n      <td>66424</td>\n      <td>114173</td>\n      <td>13937791</td>\n      <td>2787</td>\n      <td>39</td>\n    </tr>\n    <tr>\n      <th>3</th>\n      <td>Alameda</td>\n      <td>April</td>\n      <td>2020</td>\n      <td>0.141</td>\n      <td>76979</td>\n      <td>126157</td>\n      <td>15822035</td>\n      <td>27683</td>\n      <td>949</td>\n    </tr>\n    <tr>\n      <th>4</th>\n      <td>Alameda</td>\n      <td>May</td>\n      <td>2020</td>\n      <td>0.135</td>\n      <td>82572</td>\n      <td>134219</td>\n      <td>17104593</td>\n      <td>44670</td>\n      <td>1565</td>\n    </tr>\n    <tr>\n      <th>...</th>\n      <td>...</td>\n      <td>...</td>\n      <td>...</td>\n      <td>...</td>\n      <td>...</td>\n      <td>...</td>\n      <td>...</td>\n      <td>...</td>\n      <td>...</td>\n    </tr>\n    <tr>\n      <th>95</th>\n      <td>Contra Costa</td>\n      <td>December</td>\n      <td>2020</td>\n      <td>0.079</td>\n      <td>41836</td>\n      <td>76656</td>\n      <td>9117582</td>\n      <td>361197</td>\n      <td>1385</td>\n    </tr>\n    <tr>\n      <th>96</th>\n      <td>Contra Costa</td>\n      <td>January</td>\n      <td>2021</td>\n      <td>0.075</td>\n      <td>42830</td>\n      <td>77919</td>\n      <td>9141815</td>\n      <td>556903</td>\n      <td>4406</td>\n    </tr>\n    <tr>\n      <th>97</th>\n      <td>Contra Costa</td>\n      <td>February</td>\n      <td>2021</td>\n      <td>0.071</td>\n      <td>44389</td>\n      <td>80233</td>\n      <td>13095225</td>\n      <td>130653</td>\n      <td>3668</td>\n    </tr>\n    <tr>\n      <th>98</th>\n      <td>Del Norte</td>\n      <td>January</td>\n      <td>2020</td>\n      <td>0.065</td>\n      <td>2997</td>\n      <td>5380</td>\n      <td>612047</td>\n      <td>0</td>\n      <td>0</td>\n    </tr>\n    <tr>\n      <th>99</th>\n      <td>Del Norte</td>\n      <td>February</td>\n      <td>2020</td>\n      <td>0.062</td>\n      <td>3023</td>\n      <td>5415</td>\n      <td>610655</td>\n      <td>0</td>\n      <td>0</td>\n    </tr>\n  </tbody>\n</table>\n<p>100 rows × 9 columns</p>\n</div>"
     },
     "metadata": {},
     "execution_count": 43
    }
   ],
   "source": [
    "# merge two CalFresh and county_merge datasets on county, year and month\n",
    "covid_merge = pd.read_csv(covid_merge_path)\n",
    "\n",
    "covid_merge.head(100)\n"
   ]
  },
  {
   "cell_type": "code",
   "execution_count": 42,
   "metadata": {},
   "outputs": [
    {
     "output_type": "execute_result",
     "data": {
      "text/plain": [
       "             County  Population\n",
       "190      California    39512223\n",
       "191  Alameda County     1671329\n",
       "192   Alpine County        1129\n",
       "193   Amador County       39752\n",
       "194    Butte County      219186"
      ],
      "text/html": "<div>\n<style scoped>\n    .dataframe tbody tr th:only-of-type {\n        vertical-align: middle;\n    }\n\n    .dataframe tbody tr th {\n        vertical-align: top;\n    }\n\n    .dataframe thead th {\n        text-align: right;\n    }\n</style>\n<table border=\"1\" class=\"dataframe\">\n  <thead>\n    <tr style=\"text-align: right;\">\n      <th></th>\n      <th>County</th>\n      <th>Population</th>\n    </tr>\n  </thead>\n  <tbody>\n    <tr>\n      <th>190</th>\n      <td>California</td>\n      <td>39512223</td>\n    </tr>\n    <tr>\n      <th>191</th>\n      <td>Alameda County</td>\n      <td>1671329</td>\n    </tr>\n    <tr>\n      <th>192</th>\n      <td>Alpine County</td>\n      <td>1129</td>\n    </tr>\n    <tr>\n      <th>193</th>\n      <td>Amador County</td>\n      <td>39752</td>\n    </tr>\n    <tr>\n      <th>194</th>\n      <td>Butte County</td>\n      <td>219186</td>\n    </tr>\n  </tbody>\n</table>\n</div>"
     },
     "metadata": {},
     "execution_count": 42
    }
   ],
   "source": [
    "# Filter to show necessary columns adn rename columns to use initial Caps.\n",
    "census_data = pd.read_csv(census_data_path)\n",
    "census_data.rename(columns = {'STNAME' : 'State', 'CTYNAME' : 'County', \n",
    "                              'POPESTIMATE2019' : 'Population'}, inplace = True)\n",
    "census_df = pd.DataFrame(census_data)\n",
    "\n",
    "# filter rows in state that equal California and required columns (Siddharth)\n",
    "census_ca = census_df.loc[census_df['State'] == 'California']\n",
    "census_filtered = census_ca[['State', 'County', 'Population', 'DEATHS2019']]\n",
    "# Deleted original DEATHS2019 and 'State' column\n",
    "census_filtered.pop('DEATHS2019') \n",
    "census_filtered.pop('State') \n",
    "\n",
    "census_filtered.head()"
   ]
  },
  {
   "cell_type": "code",
   "execution_count": null,
   "metadata": {},
   "outputs": [],
   "source": [
    "# Combine CalFresh, census and counties data into a single dataset (John)\n"
   ]
  },
  {
   "cell_type": "markdown",
   "metadata": {},
   "source": [
    "# Summary Statistics"
   ]
  },
  {
   "cell_type": "code",
   "execution_count": null,
   "metadata": {},
   "outputs": [],
   "source": [
    "\n"
   ]
  },
  {
   "cell_type": "markdown",
   "metadata": {},
   "source": [
    "## Line Chart "
   ]
  },
  {
   "cell_type": "code",
   "execution_count": null,
   "metadata": {},
   "outputs": [],
   "source": [
    "# Show CA state covid cases over months using line plot. Years on x-axis and population on y-axis\n",
    "# Timeframe: Jan 2020 to March 2021\n"
   ]
  },
  {
   "cell_type": "code",
   "execution_count": null,
   "metadata": {},
   "outputs": [],
   "source": [
    "# Graph trends amoungst various counties on a single plot. Pick 5, at least one urban area\n",
    "# Timeframe: Jan 2020 to March 2021\n"
   ]
  },
  {
   "cell_type": "code",
   "execution_count": null,
   "metadata": {},
   "outputs": [],
   "source": [
    "# Correlation Rise of Covid and CalFresh (maybe unemployment) vs number of people receiving CalFresh aid."
   ]
  },
  {
   "cell_type": "markdown",
   "metadata": {},
   "source": [
    "### Bar Chart"
   ]
  },
  {
   "cell_type": "code",
   "execution_count": null,
   "metadata": {},
   "outputs": [],
   "source": [
    "# Number of Covid cases in all counties. Sort decending"
   ]
  },
  {
   "cell_type": "code",
   "execution_count": null,
   "metadata": {},
   "outputs": [],
   "source": [
    "# Number of Covid cases in top 10 counties. Sort decending"
   ]
  }
 ],
 "metadata": {
  "kernelspec": {
   "name": "python385jvsc74a57bd025ccd8def72f6692586959901061b5030f77648558fd6ffa67ce9122663909b4",
   "display_name": "Python 3.8.5 64-bit (conda)"
  },
  "language_info": {
   "codemirror_mode": {
    "name": "ipython",
    "version": 3
   },
   "file_extension": ".py",
   "mimetype": "text/x-python",
   "name": "python",
   "nbconvert_exporter": "python",
   "pygments_lexer": "ipython3",
   "version": "3.8.5"
  }
 },
 "nbformat": 4,
 "nbformat_minor": 4
}